{
 "cells": [
  {
   "cell_type": "markdown",
   "id": "a9322314-7ea7-4249-922c-7199ab87665a",
   "metadata": {},
   "source": [
    "# SCimilarity search using centroids and gene signatures\n",
    "\n",
    "The goal of this tutorial is to demonstrate a more flexible method for cell search, using centroids. Much of the early steps will be identical to *cell_search_tutorial_1.ipynb* and thus the explanations for those steps will be reduced for the sake of brevity. We will again use the [Adams et al. 2020](https://www.science.org/doi/10.1126/sciadv.aba1983?url_ver=Z39.88-2003&rfr_id=ori:rid:crossref.org&rfr_dat=cr_pub%20%200pubmed) healthy and IPF lung scRNA-seq data.\n",
    "\n",
    "An important thing to note is that the cells inputed into the query are what determine the query results. The average of a scattered collection of cells will not bring meaningful results. There are some built-in QC stats with which you can evaluate the centroid quality and we will demonstrate them in this tutorial.\n",
    "\n",
    "#### There will be two analyses shown for querying cells:\n",
    " 1. Using a fibroblast signature, find cells of interest and perform cell search on their centroid.\n",
    " \n",
    " 2. Using a random signature, demonstrate how QC stats can indicate a poor centroid."
   ]
  },
  {
   "cell_type": "code",
   "execution_count": null,
   "id": "bef0179d-b528-4ac1-be88-8260945fdd7d",
   "metadata": {},
   "outputs": [],
   "source": [
    "%load_ext autoreload\n",
    "%autoreload 2"
   ]
  },
  {
   "cell_type": "code",
   "execution_count": null,
   "id": "4a71c844-f028-4a36-ba80-5cc8ef16e66b",
   "metadata": {},
   "outputs": [],
   "source": [
    "# Environment settings\n",
    "import scanpy as sc\n",
    "from matplotlib import pyplot as plt\n",
    "\n",
    "sc.set_figure_params(dpi=100)\n",
    "plt.rcParams['figure.figsize'] = [6, 4] \n",
    "plt.rcParams['figure.autolayout'] = True\n",
    "\n",
    "import warnings\n",
    "warnings.filterwarnings('ignore')"
   ]
  },
  {
   "cell_type": "markdown",
   "id": "109f5263-762d-423e-b852-55438109e0d3",
   "metadata": {},
   "source": [
    "## 1. Prepare for SCimilarity: Import and normalize data"
   ]
  },
  {
   "cell_type": "code",
   "execution_count": null,
   "id": "8e2b2d2b-296d-4390-988c-8e64ff91dddd",
   "metadata": {
    "tags": []
   },
   "outputs": [],
   "source": [
    "from scimilarity.utils import lognorm_counts, align_dataset\n",
    "from scimilarity import CellQuery"
   ]
  },
  {
   "cell_type": "code",
   "execution_count": null,
   "id": "4f3c4dd8-9a4b-4ad1-a584-40726329dfd3",
   "metadata": {},
   "outputs": [],
   "source": [
    "## TODO\n",
    "## RESTRUCTURE THE MODEL PATHS FOR DOWNLOAD FILES\n",
    "\n",
    "# If the models haven't been downloaded please uncomment and run the two command below\n",
    "#!curl -L -o /models/query_model_v1.tar.gz https://zenodo.org/record/8240464/files/query_model_v1.tar.gz?download=1\n",
    "#!tar -xzvf /models/query_model_v1.tar.gz"
   ]
  },
  {
   "cell_type": "code",
   "execution_count": null,
   "id": "b1fea2d2-534b-44dc-9387-43b999c2ab49",
   "metadata": {
    "tags": []
   },
   "outputs": [],
   "source": [
    "# Instantiate the CellQuery object.\n",
    "# Replace model_path with your local file path.\n",
    "from scimilarity import ModelPath\n",
    "model_path = ModelPath.model_paper\n",
    "cq = CellQuery(model_path)"
   ]
  },
  {
   "cell_type": "markdown",
   "id": "59941b34-58d3-4f99-8138-543b53bd2b60",
   "metadata": {},
   "source": [
    "### Load scRNA-seq data"
   ]
  },
  {
   "cell_type": "code",
   "execution_count": null,
   "id": "b6194a68-682c-4c12-bc4d-5762dbb00622",
   "metadata": {},
   "outputs": [],
   "source": [
    "# To Download the demo data to the data/ directory uncomment and run the command below\n",
    "#! curl -L -o \"{download_dir}/GSE136831_subsample.h5ad\" https://zenodo.org/record/8242083/files/GSE136831_subsample.h5ad?download=1"
   ]
  },
  {
   "cell_type": "code",
   "execution_count": null,
   "id": "499fa51b-24ed-46ec-8ca3-b26e1924cf16",
   "metadata": {},
   "outputs": [],
   "source": [
    "# Load the tutorial data.\n",
    "# Replace data_path with your local file path.\n",
    "data_path = '../data/GSE136831_subsample.h5ad'\n",
    "adams = sc.read(data_path)"
   ]
  },
  {
   "cell_type": "code",
   "execution_count": null,
   "id": "04eafd60-03c3-402f-a42a-2f3784271455",
   "metadata": {
    "tags": []
   },
   "outputs": [],
   "source": [
    "adams = align_dataset(adams, cq.gene_order)\n",
    "adams = lognorm_counts(adams)"
   ]
  },
  {
   "cell_type": "markdown",
   "id": "b8efcfa5-e845-4aeb-8c7d-4cf844306d3e",
   "metadata": {},
   "source": [
    "## 2. Compute embeddings\n",
    "Using the already trained models, SCimilarity can embed your new dataset. "
   ]
  },
  {
   "cell_type": "code",
   "execution_count": null,
   "id": "41becbfa-ab3c-4ff9-8d6a-54d6fc7a3b9b",
   "metadata": {
    "tags": []
   },
   "outputs": [],
   "source": [
    "adams.obsm['X_scimilarity'] = cq.get_embeddings(adams.X)"
   ]
  },
  {
   "cell_type": "code",
   "execution_count": null,
   "id": "172079b3-efe4-4214-b36a-13cb1822b275",
   "metadata": {
    "tags": []
   },
   "outputs": [],
   "source": [
    "sc.pp.neighbors(adams, use_rep='X_scimilarity')\n",
    "sc.tl.umap(adams)"
   ]
  },
  {
   "cell_type": "code",
   "execution_count": null,
   "id": "7130a6aa-e384-4aee-ae6e-754590bceb05",
   "metadata": {
    "tags": []
   },
   "outputs": [],
   "source": [
    "sc.pl.umap(adams, color='celltype_raw', legend_fontsize=5)"
   ]
  },
  {
   "cell_type": "markdown",
   "id": "f12817ba-807a-4013-aa39-862b5a962180",
   "metadata": {
    "tags": []
   },
   "source": [
    "## 3. Identify query cell states\n",
    "\n",
    "The more coherent and specific the cell population is the more interesting the results typically are. Cell subtypes/subclustering are usually more interesting.\n",
    "\n",
    "In this example, we do not need celltype information to identify query cells, rather we will use a gene signature for fibroblasts and a random signature to illustrate the QC metrics we use to evaluate centroid quality."
   ]
  },
  {
   "cell_type": "code",
   "execution_count": null,
   "id": "759608f3-52f7-4ed7-8e2e-51c077ed1a46",
   "metadata": {
    "tags": []
   },
   "outputs": [],
   "source": [
    "fibro_signature = ['ACTA2', 'CDH11', 'ELN',  'LOXL1', 'TNC', 'ASPN', 'COMP', 'CTHRC1', 'POSTN', 'COL1A1', 'COL3A1', 'COL8A1']\n",
    "sc.tl.score_genes(adams, fibro_signature, score_name='fibro_score')\n",
    "\n",
    "random_signature = ['SOX8', 'FABP4', 'IRS1', 'ADRA2A', 'PPARGC1A', 'SGK1', 'APOC3', 'NR4A1', 'FOSB', 'KLF7', 'GFRA2', 'RXRG', 'THRB']\n",
    "sc.tl.score_genes(adams, random_signature, score_name='nonspecific_score')"
   ]
  },
  {
   "cell_type": "code",
   "execution_count": null,
   "id": "cc19592b-d366-47db-936d-cdab85385963",
   "metadata": {},
   "outputs": [],
   "source": [
    "sig_query_threshold = adams.obs['fibro_score'].quantile(.999)\n",
    "cells_used_in_query = adams.obs['fibro_score'] >= sig_query_threshold\n",
    "adams.obs['used_in_fibro_query'] = cells_used_in_query.astype(int)\n",
    "\n",
    "sig_query_threshold = adams.obs['nonspecific_score'].quantile(.999)\n",
    "cells_used_in_query = adams.obs['nonspecific_score'] >= sig_query_threshold\n",
    "adams.obs['used_in_nonspecific_query'] = cells_used_in_query.astype(int)"
   ]
  },
  {
   "cell_type": "markdown",
   "id": "40f024a5-318e-406c-8b0e-3ebb7cf35fac",
   "metadata": {},
   "source": [
    "As we are performing the search on a **centroid**, we very much want a tight collection of cells on which to calculate the centroid. Here we visualize the collection of cells to check coherence. These cells should ideally come from the same cluster and homogenous."
   ]
  },
  {
   "cell_type": "code",
   "execution_count": null,
   "id": "b4fff20d-8248-418c-b43a-252dc14e9fbc",
   "metadata": {},
   "outputs": [],
   "source": [
    "sc.pl.umap(adams, color=['fibro_score', 'nonspecific_score'])"
   ]
  },
  {
   "cell_type": "code",
   "execution_count": null,
   "id": "1e9cef29-d2be-4e71-844c-292995dfd768",
   "metadata": {},
   "outputs": [],
   "source": [
    "sc.pl.umap(adams, color=['used_in_fibro_query', 'used_in_nonspecific_query'], cmap=\"YlOrRd\")"
   ]
  },
  {
   "cell_type": "markdown",
   "id": "aa1a3063-07be-4092-b100-e6cd99bb2ab1",
   "metadata": {},
   "source": [
    "## 4. Perform cell search on centroid\n",
    "The centroid search method provides a QC output with which you can evaluate the quality of the centroid and search results.\n",
    "\n",
    "QC stats:\n",
    "  - centroid_intradistance: Mean distance of cells that comprise the centroid to the centroid.\n",
    "  - centroid_enrichment: Enrichment of cells that comprise the centroid versus non-centroid cells.\n",
    "  - centroid_pval: The p-value of the centroid being comprised of non-centroid cells.\n",
    "  - query_enrichment: The consistency of query results between the centroid and cells that comprise the centroid.\n",
    "  - query_background: The consistency of query results between the centroid and non-centroid cells.\n",
    "\n",
    "For more details, see the Section## in the paper."
   ]
  },
  {
   "cell_type": "code",
   "execution_count": null,
   "id": "0f599454-7dd7-4c44-95da-a2026bda392b",
   "metadata": {},
   "outputs": [],
   "source": [
    "centroid_embedding, nn_idxs, nn_dists, fibro_results_metadata, qc_stats = cq.search_centroid(adams, 'used_in_fibro_query')\n",
    "print(qc_stats)"
   ]
  },
  {
   "cell_type": "code",
   "execution_count": null,
   "id": "b6df584e-990d-41ef-a9cd-ef30d5ff5b7e",
   "metadata": {},
   "outputs": [],
   "source": [
    "centroid_embedding, nn_idxs, nn_dists, random_results_metadata, qc_stats = cq.search_centroid(adams, 'used_in_nonspecific_query')\n",
    "print(qc_stats)"
   ]
  },
  {
   "cell_type": "code",
   "execution_count": null,
   "id": "4a9c4137-2bc4-4140-991a-8d70aaa060ef",
   "metadata": {
    "tags": []
   },
   "outputs": [],
   "source": [
    "def calculate_disease_proportions(metadata):\n",
    "    study_proportions = metadata.disease.value_counts()\n",
    "    return 100*study_proportions / study_proportions.sum()\n",
    "\n",
    "def plot_proportions(df, title=None):\n",
    "    ax = df.plot(kind='barh', \n",
    "            xlabel='percent of cells',\n",
    "            title=title, \n",
    "            grid=False,\n",
    "            figsize=(8,5))\n",
    "    ax.tick_params(axis='y', labelsize=8)\n",
    "    ax.set_xticklabels([f'{int(tick)}%' for tick in ax.get_xticks()]);\n",
    "    plt.tight_layout()"
   ]
  },
  {
   "cell_type": "markdown",
   "id": "aeb62cce-77c1-4268-a4ea-fcd7124b3583",
   "metadata": {},
   "source": [
    "##### Exclude self-referencing results\n",
    "Naturally, queries searching for similar cells will highlight cells from the same study. To get a clearer view of the results, we often exclude those self-referencing hits."
   ]
  },
  {
   "cell_type": "code",
   "execution_count": null,
   "id": "85c702bc-c4ce-4b7a-876c-390a45b3ba08",
   "metadata": {
    "tags": []
   },
   "outputs": [],
   "source": [
    "query_study = 'DS000011735'\n",
    "filtered_result_metadata = fibro_results_metadata[fibro_results_metadata.study!=query_study]\n",
    "query_disease_frequencies = calculate_disease_proportions(filtered_result_metadata)\n",
    "plot_proportions(query_disease_frequencies, title='disease proportions for most similar cells')"
   ]
  },
  {
   "cell_type": "code",
   "execution_count": null,
   "id": "e9ec6f19-a146-43f6-a550-d7c6922f138d",
   "metadata": {
    "tags": []
   },
   "outputs": [],
   "source": [
    "query_study = 'DS000011735'\n",
    "filtered_result_metadata = random_results_metadata[random_results_metadata.study!=query_study]\n",
    "query_disease_frequencies = calculate_disease_proportions(filtered_result_metadata)\n",
    "plot_proportions(query_disease_frequencies, title='disease proportions for most similar cells')"
   ]
  },
  {
   "cell_type": "markdown",
   "id": "cdffa88f-9a5a-40e5-9163-7f67d6405faa",
   "metadata": {},
   "source": [
    "## Next: Advanced cell search using cluster centroids\n",
    "This notebook demonstrated SCimilarity cell search on centroids and described the QC metrics that can be used to evaluate the quality of a centroid. Though we used gene signatures here to demonstrate this process, centroids can also be constructed from clusters or cell type labels.  The QC metrics can also be used on cluster centroids to evaluate the quality of those centroids.\n",
    "\n",
    "Check out the next tutorial to learn how to search cell cluster centroids using SCimilarity!"
   ]
  },
  {
   "cell_type": "code",
   "execution_count": null,
   "id": "46e4e428-4a7d-426c-9c6b-bf5f59c794a3",
   "metadata": {},
   "outputs": [],
   "source": []
  }
 ],
 "metadata": {
  "kernelspec": {
   "display_name": "gpy",
   "language": "python",
   "name": "gpy"
  },
  "language_info": {
   "codemirror_mode": {
    "name": "ipython",
    "version": 3
   },
   "file_extension": ".py",
   "mimetype": "text/x-python",
   "name": "python",
   "nbconvert_exporter": "python",
   "pygments_lexer": "ipython3",
   "version": "3.10.13"
  }
 },
 "nbformat": 4,
 "nbformat_minor": 5
}
